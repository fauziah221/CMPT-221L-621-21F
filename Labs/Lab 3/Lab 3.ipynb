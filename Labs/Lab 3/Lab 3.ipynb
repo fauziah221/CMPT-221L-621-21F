{
 "cells": [
  {
   "cell_type": "markdown",
   "source": [
    "# Lab Three\n",
    "---\n",
    "\n",
    "Ok for this lab we're going to reiterate a lot of the things that we went over in class.\n",
    "\n",
    "Our Goals are:\n",
    "- Understanding Variable Types\n",
    "- Defining Variables\n",
    "- Using Conditionals\n",
    "- Using Loops\n",
    "- Creating Objects\n",
    "- Writing a function\n"
   ],
   "metadata": {}
  },
  {
   "cell_type": "markdown",
   "source": [
    "## What's the difference between Null and undefined?\n",
    "With null the user actually has an object which they've given no value to on purpose but with undefined there is nothing at all because what is being searched for, the value of it is there and it's been declared but it has not been defined yet.\n"
   ],
   "metadata": {}
  },
  {
   "cell_type": "code",
   "execution_count": null,
   "source": [
    "## List the 3 Variable Types and Use Them!\n",
    "Var\n",
    "example:\n",
    "var numbers = \"2\";\n",
    "console.log(numbers);\n",
    "\n",
    "Let\n",
    "example:\n",
    "let numbers = \"2\";\n",
    "console.log(numbers);\n",
    "\n",
    "numbers = \"3\";\n",
    "console.log(numbers);\n",
    "\n",
    "Const\n",
    "example:\n",
    "const numbers = \"x\";\n",
    "console.log(numbers);"
   ],
   "outputs": [],
   "metadata": {}
  },
  {
   "cell_type": "code",
   "execution_count": null,
   "source": [
    "## Use an If/Else If/Else Statement and a Switch Case statement\n",
    "If/Else statement\n",
    "let dresses = \"\";\n",
    "\n",
    "if (dresses) {\n",
    "    console.log(\"I want to try on some cute dresses for the party tonight!\");\n",
    "} \n",
    "else {\n",
    "    console.log(\"Actually, nevermind I'll just go get my nails done the dresses can wait.\");\n",
    "}\n",
    "\n",
    "Switch statement\n",
    "let designers = \"Gucci\";\n",
    "switch (designers){\n",
    "    case \"Channel\":\n",
    "        console.log(\"Channel is nice but too expensive so I wouldn't go there.\");\n",
    "        break;\n",
    "    case \"Versace\":\n",
    "        console.log(\"They have nice things but they are too bright for me.\");\n",
    "        break;\n",
    "    case \"Dior\":\n",
    "        console.log(\"Cute bags but not that much of variety in my opinion.\");\n",
    "        break;\n",
    "\n",
    "    default:\n",
    "        console.log(\"I love Gucci! It has always been my go to because they have cute styles and they are affordable as designer brand.\");\n",
    "        break;\n",
    "}\n"
   ],
   "outputs": [],
   "metadata": {}
  },
  {
   "cell_type": "code",
   "execution_count": null,
   "source": [
    "## Use a For and a While Loop\n",
    "For loop\n",
    "var groceryList = [\"Eggs\", \"Milk\", \"Cheese\", \"Olive Oil\", \"Salt\", \"Pepper\"];\n",
    "for (grocery of groceryList){\n",
    "    console.log(grocery);\n",
    "}\n",
    "\n",
    "While Loop\n",
    "var oddNumbers = [3,5,7,9,11,13,15,17]\n",
    "while (oddNumbers.length != 3){\n",
    "    console.log(oddNumbers.pop());\n",
    "}"
   ],
   "outputs": [],
   "metadata": {}
  },
  {
   "cell_type": "code",
   "execution_count": null,
   "source": [
    "## Make an object!\n",
    "// My Pet Dog\n",
    "let dogName = {\n",
    "    firstName: \"Farrah\",\n",
    "    lastName:  \"Gianni\",\n",
    "    otherNames: [\"Gigi\"],\n",
    "    age:       1\n",
    "}"
   ],
   "outputs": [],
   "metadata": {}
  },
  {
   "cell_type": "code",
   "execution_count": null,
   "source": [
    "## Make a function, It can do anything!\n",
    "function Anything() {\n",
    "\talert(\"Hi this function is just a demonstration!\");\n",
    "    }  \n",
    "    Anything();"
   ],
   "outputs": [],
   "metadata": {}
  },
  {
   "cell_type": "markdown",
   "source": [
    "## Optional: Checkout HackerRank and try a problem in Javascript"
   ],
   "metadata": {}
  }
 ],
 "metadata": {
  "orig_nbformat": 4,
  "language_info": {
   "name": "python",
   "version": "3.8.8",
   "mimetype": "text/x-python",
   "codemirror_mode": {
    "name": "ipython",
    "version": 3
   },
   "pygments_lexer": "ipython3",
   "nbconvert_exporter": "python",
   "file_extension": ".py"
  },
  "kernelspec": {
   "name": "python3",
   "display_name": "Python 3.8.8 64-bit ('base': conda)"
  },
  "interpreter": {
   "hash": "2417eb66adfa4a6655cabbf521b34e3644e8dba1190c5c1ba8d855dc280936ad"
  }
 },
 "nbformat": 4,
 "nbformat_minor": 2
}